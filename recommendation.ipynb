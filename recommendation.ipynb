{
 "cells": [
  {
   "cell_type": "code",
   "execution_count": null,
   "metadata": {
    "collapsed": false
   },
   "outputs": [],
   "source": [
    "from copy import deepcopy\n",
    "import os\n",
    "import codecs\n",
    "from itertools import product\n",
    "\n",
    "from IPython.display import display\n",
    "from tqdm import tqdm, trange\n",
    "import numpy as np\n",
    "import pandas as pd\n",
    "from sklearn.metrics import mean_absolute_error, mean_squared_error"
   ]
  },
  {
   "cell_type": "code",
   "execution_count": null,
   "metadata": {
    "collapsed": true
   },
   "outputs": [],
   "source": [
    "def rms(arr):\n",
    "    return np.sqrt(np.mean((arr**2).ravel()))"
   ]
  },
  {
   "cell_type": "code",
   "execution_count": null,
   "metadata": {
    "collapsed": false
   },
   "outputs": [],
   "source": [
    "def SVD(R, n_epochs=20, K=100, lr=0.005, reg=0.02):\n",
    "    # U: the number of users\n",
    "    # I: the number of items\n",
    "    U, I = R.shape\n",
    "    # P: user factor matrix\n",
    "    P = np.random.rand(K, U)\n",
    "    # Q: item factor matrix\n",
    "    Q = np.random.rand(K, I)\n",
    "    \n",
    "    # only use rated elements of R to compute loss\n",
    "    mask = np.ones(R.shape)\n",
    "    mask[R == 0] = 0\n",
    "    \n",
    "    # learning\n",
    "    for epoch in trange(n_epochs, desc='epoch'):\n",
    "        pbar = tqdm(product(range(U), range(I)),\n",
    "                 total=U*I, desc='(u, i)')\n",
    "        for u, i in pbar:\n",
    "            # only update rated elements\n",
    "            Rui = R[u,i]\n",
    "            if Rui > 0:\n",
    "                # compute error\n",
    "                eui = Rui - P[:,u].T.dot(Q[:,i])\n",
    "                for k in range(K):\n",
    "                    Pku = P[k,u]\n",
    "                    Qki = Q[k,i]\n",
    "                    P[k,u] += lr * (2 * eui * Qki - reg * Pku)\n",
    "                    Q[k,i] += lr * (2 * eui * Pku - reg * Qki)\n",
    "                    \n",
    "        # compute & print loss\n",
    "        E = R - (P.T.dot(Q))*mask\n",
    "        loss = rms(E) + reg/2.0*(rms(P)+rms(Q))\n",
    "        tqdm.write('epoch {}: {}'.format(epoch, loss))\n",
    "        \n",
    "        if loss < 0.001:\n",
    "            break\n",
    "            \n",
    "    return P, Q"
   ]
  },
  {
   "cell_type": "code",
   "execution_count": null,
   "metadata": {
    "collapsed": false
   },
   "outputs": [],
   "source": [
    "def SVD_batch(R, n_epochs=1000, K=100, lr=0.5, reg=0.02):\n",
    "    # U: the number of users\n",
    "    # I: the number of items\n",
    "    U, I = R.shape\n",
    "    # P: user factor matrix\n",
    "    P = np.random.rand(K, U)\n",
    "    # Q: item factor matrix\n",
    "    Q = np.random.rand(K, I)\n",
    "    \n",
    "    # only use rated elements of R to compute loss\n",
    "    mask = np.ones(R.shape)\n",
    "    mask[R == 0] = 0\n",
    "    \n",
    "    # learning\n",
    "    for epoch in trange(n_epochs, desc='epoch'):\n",
    "        for u in trange(U):\n",
    "            Pu = P[:,u] # (K, 1)\n",
    "            Eu = R[u,:] - Pu.T.dot(Q)*mask[u,:] # (1, I)\n",
    "            # (K, 1)\n",
    "            P[:,u] += lr*(np.mean(Eu*Q, axis=1)\n",
    "                          - reg*Pu)\n",
    "            \n",
    "        for i in trange(I):\n",
    "            Qi = Q[:,i] # (K, 1)\n",
    "            Ei = R[:,i] - P.T.dot(Qi)*mask[:,i] # (U, 1)\n",
    "            # (K, 1)\n",
    "            Q[:,i] += lr*(np.mean(Ei.T*P, axis=1)\n",
    "                          - reg*Qi)\n",
    "                    \n",
    "        # compute & print loss\n",
    "        E = R - (P.T.dot(Q))*mask\n",
    "        loss = rms(E) + reg/2.0*(rms(P)+rms(Q))\n",
    "        tqdm.write('epoch {}: {}'.format(epoch, loss))\n",
    "        \n",
    "        if loss < 0.23:\n",
    "            break\n",
    "            \n",
    "    return P, Q"
   ]
  },
  {
   "cell_type": "code",
   "execution_count": null,
   "metadata": {
    "collapsed": false
   },
   "outputs": [],
   "source": [
    "def validation():\n",
    "    # load learned factors\n",
    "    U = np.loadtxt('others/U.csv')\n",
    "    I = np.loadtxt('others/I.csv')\n",
    "    \n",
    "    # predicted rating matrix\n",
    "    R_p = U.T.dot(I)\n",
    "\n",
    "    # load test data\n",
    "    test_file = './data/u1.test'\n",
    "    df_test = pd.read_csv(test_file, delimiter='\\t', header=None)\n",
    "    df_test.columns = ['user_id', 'item_id', 'rating', 'timestamp']\n",
    "\n",
    "    # get observations and predictions\n",
    "    obs = []\n",
    "    pred = []\n",
    "    for _, row in df_test.iterrows():\n",
    "        obs.append(row['rating'])\n",
    "        \n",
    "        item_id = row['item_id']-1\n",
    "        user_id = row['user_id']-1\n",
    "        pred.append(R_p[user_id][item_id])\n",
    "\n",
    "    # compute evaluation metrics\n",
    "    results = {\n",
    "        \"MAE\":mean_absolute_error(obs, pred),\n",
    "        \"RMSE\":np.sqrt(mean_squared_error(obs, pred))\n",
    "    }   \n",
    "    \n",
    "    return results"
   ]
  },
  {
   "cell_type": "code",
   "execution_count": null,
   "metadata": {
    "collapsed": false
   },
   "outputs": [],
   "source": [
    "def main(fold_id=1):\n",
    "    # load dataset\n",
    "    data_file = './data/u{}.base'.format(fold_id)\n",
    "    df_data = pd.read_csv(data_file, delimiter='\\t', header=None)\n",
    "    df_data.columns = ['user_id', 'item_id', 'rating', 'timestamp']\n",
    "    n_users = df_data.max()['user_id']\n",
    "    n_items = df_data.max()['item_id']\n",
    "\n",
    "    # change shape into user-item matrix\n",
    "    ratings = df_data.pivot(index='user_id', columns='item_id',\n",
    "                            values='rating').fillna(0)\n",
    "    # fill the lack of no-rated item_id\n",
    "    for item in range(n_items):\n",
    "        item += 1\n",
    "        if item not in ratings.columns:\n",
    "            ratings.loc[:, item] = 0\n",
    "            \n",
    "    # learning\n",
    "    R = ratings.values\n",
    "    U, I = SVD_batch(R)\n",
    "    #U, I = SVD(R)\n",
    "    \n",
    "    # save matrices\n",
    "    np.savetxt('others/U.csv', U)\n",
    "    np.savetxt('others/I.csv', I)\n",
    "    \n",
    "    print(validation())"
   ]
  },
  {
   "cell_type": "code",
   "execution_count": null,
   "metadata": {
    "collapsed": true
   },
   "outputs": [],
   "source": [
    "if __name__=='__main__':\n",
    "    main()"
   ]
  }
 ],
 "metadata": {
  "kernelspec": {
   "display_name": "Python 3",
   "language": "python",
   "name": "python3"
  },
  "language_info": {
   "codemirror_mode": {
    "name": "ipython",
    "version": 3
   },
   "file_extension": ".py",
   "mimetype": "text/x-python",
   "name": "python",
   "nbconvert_exporter": "python",
   "pygments_lexer": "ipython3",
   "version": "3.6.0"
  }
 },
 "nbformat": 4,
 "nbformat_minor": 2
}
