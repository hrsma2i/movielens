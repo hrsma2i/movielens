{
 "cells": [
  {
   "cell_type": "code",
   "execution_count": null,
   "metadata": {
    "collapsed": false
   },
   "outputs": [],
   "source": [
    "from copy import deepcopy\n",
    "import os\n",
    "import codecs\n",
    "\n",
    "from IPython.display import display\n",
    "from tqdm import tqdm_notebook as tqdm\n",
    "from tqdm import trange\n",
    "import numpy as np\n",
    "import pandas as pd"
   ]
  },
  {
   "cell_type": "code",
   "execution_count": null,
   "metadata": {
    "collapsed": false
   },
   "outputs": [],
   "source": [
    "data_file = './data/u1.base'\n",
    "df_data = pd.read_csv(data_file, delimiter='\\t', header=None)\n",
    "df_data.columns = ['user_id', 'item_id', 'rating', 'timestamp']\n",
    "df_data"
   ]
  },
  {
   "cell_type": "code",
   "execution_count": null,
   "metadata": {
    "collapsed": false
   },
   "outputs": [],
   "source": [
    "data_file = './data/u.item'\n",
    "genre = [l.rstrip().split('|')[0] for l in open('data/u.genre')][:-1]\n",
    "\n",
    "# for UnicodeDecodeError\n",
    "with codecs.open(data_file, 'r', 'utf-8', 'ignore') as f:\n",
    "    df_item = pd.read_table(f, delimiter='|', header=None)\n",
    "    df_item.columns = [\n",
    "        'movie_id', \n",
    "        'title', \n",
    "        'release_date', \n",
    "        'video_release_date',\n",
    "        'IMDb_URL',\n",
    "    ] + genre\n",
    "df_item"
   ]
  },
  {
   "cell_type": "code",
   "execution_count": null,
   "metadata": {
    "collapsed": false
   },
   "outputs": [],
   "source": [
    "data_file = './data/u.user'\n",
    "df_user = pd.read_csv(data_file, delimiter='|', header=None)\n",
    "df_user.columns = ['user_id', 'age', 'gender', 'occupation', 'zip code']\n",
    "df_user"
   ]
  },
  {
   "cell_type": "code",
   "execution_count": null,
   "metadata": {
    "collapsed": false
   },
   "outputs": [],
   "source": [
    "n_users = 943\n",
    "n_items = 1682\n",
    "ratings = np.zeros((n_users, n_items))\n",
    "for index, row in tqdm(df_data.iterrows(), total=df_data.shape[0]):\n",
    "    user_id = row['user_id']\n",
    "    item_id = row['item_id']\n",
    "    rating = row['rating']\n",
    "    ratings[user_id-1][item_id-1] = rating\n",
    "ratings"
   ]
  },
  {
   "cell_type": "code",
   "execution_count": null,
   "metadata": {
    "collapsed": false
   },
   "outputs": [],
   "source": [
    "ratings[1-1][1-1]"
   ]
  },
  {
   "cell_type": "code",
   "execution_count": null,
   "metadata": {
    "collapsed": false
   },
   "outputs": [],
   "source": [
    "def SVD(R, k, n_steps=100,\n",
    "        alpha=0.0002, beta=0.02, threshold=0.001):\n",
    "    \"\"\"\n",
    "    R: rating matrix\n",
    "    U: user factor matrix\n",
    "    I: item factor matrixf\n",
    "    alpha: learning rate\n",
    "    beta: regularization parameter\n",
    "    \"\"\"\n",
    "    U = np.random.rand(k, R.shape[0])\n",
    "    I = np.random.rand(k, R.shape[1])\n",
    "    # TODO 0(ratingなし) はmaskで抜かす\n",
    "    mask = np.ones(R.shape)\n",
    "    mask[R == 0] = 0\n",
    "    display(mask)\n",
    "    pre_loss = None\n",
    "    epoch = 0\n",
    "    mx = deepcopy(alpha)\n",
    "    mn = 0\n",
    "    n_cycle = 14\n",
    "    first_t_max = 1\n",
    "    t_mult = 2\n",
    "    ls_t_max = [first_t_max * t_mult**i for i in range(n_cycle)]\n",
    "    #n_steps_c = int(np.floor(n_steps/n_cycles))\n",
    "    #ts = [ i for i in range(n_steps_c,n_steps+1,n_steps_c)]\n",
    "    \n",
    "    for t_max in ls_t_max:\n",
    "        for t_cur in trange(t_max):\n",
    "            err = R - (U.T.dot(I))*mask\n",
    "            loss = np.mean((err*err).flatten()) \\\n",
    "                    + beta/2.0 * (np.linalg.norm(U) + np.linalg.norm(I))\n",
    "            print(epoch, loss)\n",
    "            U *= (1-alpha*beta)\n",
    "            U += np.sum(2*alpha*err.T[np.newaxis, :,:]*I[:,:,np.newaxis], axis=1)\n",
    "            I *= (1-alpha*beta)\n",
    "            I += np.sum(2*alpha*  err[np.newaxis, :,:]*U[:,:,np.newaxis], axis=1)\n",
    "\n",
    "            #if pre_loss is not None:\n",
    "            #    sub = pre_loss - loss\n",
    "            #    if sub < loss*1e-4:\n",
    "            #        print('pre_loss - loss:', sub)\n",
    "            #        print('alpha is dived by 10')\n",
    "            #        alpha /= 10\n",
    "            alpha = mn + (mx-mn)*(1+np.cos(t_cur/t_max*np.pi))/2\n",
    "            print('lr:', alpha)\n",
    "            if epoch % 500 == 0 and epoch != 0:\n",
    "                print('10 times')\n",
    "                alpha *= 10\n",
    "\n",
    "            pre_loss = deepcopy(loss)\n",
    "            epoch += 1\n",
    "\n",
    "            if loss < threshold or epoch>n_steps:\n",
    "                break\n",
    "\n",
    "            print()\n",
    "    return U, I"
   ]
  },
  {
   "cell_type": "code",
   "execution_count": null,
   "metadata": {
    "collapsed": false
   },
   "outputs": [],
   "source": [
    "U, I = SVD(R=ratings, n_steps=20000, k=2, alpha=4e-5, beta=0, threshold=0.01)\n",
    "ratings_pred = U.T.dot(I)"
   ]
  },
  {
   "cell_type": "code",
   "execution_count": null,
   "metadata": {
    "collapsed": false
   },
   "outputs": [],
   "source": [
    "from itertools import product\n",
    "for u, i in product(range(10), range(10)):\n",
    "    print(ratings[u][i], ratings_pred[u][i])"
   ]
  },
  {
   "cell_type": "code",
   "execution_count": null,
   "metadata": {
    "collapsed": true
   },
   "outputs": [],
   "source": []
  }
 ],
 "metadata": {
  "kernelspec": {
   "display_name": "Python 3",
   "language": "python",
   "name": "python3"
  },
  "language_info": {
   "codemirror_mode": {
    "name": "ipython",
    "version": 3
   },
   "file_extension": ".py",
   "mimetype": "text/x-python",
   "name": "python",
   "nbconvert_exporter": "python",
   "pygments_lexer": "ipython3",
   "version": "3.6.0"
  },
  "widgets": {
   "state": {
    "dcbd9318346c414e961fb66163a56ad8": {
     "views": [
      {
       "cell_index": 4
      }
     ]
    }
   },
   "version": "1.2.0"
  }
 },
 "nbformat": 4,
 "nbformat_minor": 2
}
