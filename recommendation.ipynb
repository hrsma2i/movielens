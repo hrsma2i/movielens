{
 "cells": [
  {
   "cell_type": "code",
   "execution_count": null,
   "metadata": {
    "collapsed": false
   },
   "outputs": [],
   "source": [
    "from copy import deepcopy\n",
    "import os\n",
    "import codecs\n",
    "from itertools import product\n",
    "\n",
    "from IPython.display import display\n",
    "from tqdm import tqdm, trange\n",
    "import numpy as np\n",
    "from numpy.linalg import inv\n",
    "import pandas as pd\n",
    "from sklearn.metrics import mean_absolute_error, mean_squared_error"
   ]
  },
  {
   "cell_type": "code",
   "execution_count": null,
   "metadata": {
    "collapsed": true
   },
   "outputs": [],
   "source": [
    "def rms(arr):\n",
    "    return np.sqrt(np.mean((arr**2).ravel()))"
   ]
  },
  {
   "cell_type": "code",
   "execution_count": null,
   "metadata": {
    "collapsed": false
   },
   "outputs": [],
   "source": [
    "def SVD(R, n_epochs=20, K=100, lr=0.05, reg=0.02):\n",
    "    # U: the number of users\n",
    "    # I: the number of items\n",
    "    U, I = R.shape\n",
    "    # P: user factor matrix\n",
    "    P = np.random.rand(K, U)\n",
    "    # Q: item factor matrix\n",
    "    Q = np.random.rand(K, I)\n",
    "    \n",
    "    # only use rated elements of R to compute loss\n",
    "    mask = np.ones(R.shape)\n",
    "    mask[R == 0] = 0\n",
    "    \n",
    "    # learning\n",
    "    for epoch in trange(n_epochs, desc='epoch'):\n",
    "        pbar = tqdm(product(range(U), range(I)),\n",
    "                 total=U*I, desc='(u, i)')\n",
    "        for u, i in pbar:\n",
    "            # only update rated elements\n",
    "            Rui = R[u,i]\n",
    "            if Rui > 0:\n",
    "                # compute error\n",
    "                eui = Rui - P[:,u].T.dot(Q[:,i])\n",
    "                for k in range(K):\n",
    "                    Pku = P[k,u]\n",
    "                    Qki = Q[k,i]\n",
    "                    P[k,u] += lr * (2 * eui * Qki - reg * Pku)\n",
    "                    Q[k,i] += lr * (2 * eui * Pku - reg * Qki)\n",
    "                    \n",
    "        # compute & print loss\n",
    "        E = R - (P.T.dot(Q))*mask\n",
    "        loss = rms(E) + reg/2.0*(rms(P)+rms(Q))\n",
    "        tqdm.write('epoch {}: {}'.format(epoch, loss))\n",
    "        \n",
    "        if loss < 0.001:\n",
    "            break\n",
    "            \n",
    "    return P, Q"
   ]
  },
  {
   "cell_type": "code",
   "execution_count": null,
   "metadata": {
    "collapsed": false
   },
   "outputs": [],
   "source": [
    "def SVD_batch(R, n_epochs=100, K=100, lr=0.005, reg=0.02,\n",
    "             threshold=0.01):\n",
    "    # U: the number of users\n",
    "    # I: the number of items\n",
    "    U, I = R.shape\n",
    "    # P: user factor matrix\n",
    "    P = np.random.rand(K, U)\n",
    "    # Q: item factor matrix\n",
    "    Q = np.random.rand(K, I)\n",
    "    bU = np.zeros(U)\n",
    "    bI = np.zeros(I)\n",
    "    \n",
    "    # only use rated elements of R to compute loss\n",
    "    mask = np.ones(R.shape)\n",
    "    mask[R == 0] = 0\n",
    "    \n",
    "    pre_loss = None\n",
    "    chance = 2\n",
    "    \n",
    "    vld = Validater()\n",
    "    # learning\n",
    "    for epoch in trange(n_epochs, desc='epoch'):\n",
    "        for u in trange(U):\n",
    "            Pu = P[:,u] # (K, 1)\n",
    "            # (1, I)\n",
    "            Eu = (R[u,:] -Pu.T.dot(Q)\n",
    "                  -bU[u] -bI)*mask[u,:] \n",
    "            # (K, 1)\n",
    "            P[:,u] += lr*(np.mean(Eu*Q, axis=1)\n",
    "                          - reg*Pu)\n",
    "            bI += lr*(Eu.ravel() - reg*bI)\n",
    "            \n",
    "        for i in trange(I):\n",
    "            Qi = Q[:,i] # (K, 1)\n",
    "            # (U, 1)\n",
    "            Ei = (R[:,i] -P.T.dot(Qi)\n",
    "                 -bU -bI[i])*mask[:,i]\n",
    "            # (K, 1)\n",
    "            Q[:,i] += lr*(np.mean(Ei.T*P, axis=1)\n",
    "                          - reg*Qi)\n",
    "            bU += lr*(Ei.ravel() - reg*bU)\n",
    "                    \n",
    "        # compute & print loss\n",
    "        E = (R - P.T.dot(Q)\n",
    "             -bU.reshape(-1,1) -bI.reshape(1,-1))*mask\n",
    "        loss = rms(E)# + reg/2.0*(rms(P)+rms(Q))\n",
    "        tqdm.write('epoch {}'.format(epoch))\n",
    "        tqdm.write(' train loss:{}'.format(loss))\n",
    "        tqdm.write(' val loss:'+str(vld.validate(P, Q, bU, bI)))\n",
    "        \n",
    "        if loss < threshold:\n",
    "            break\n",
    "        \n",
    "        pre_loss = deepcopy(loss)\n",
    "        \n",
    "    return P, Q, bU, bI"
   ]
  },
  {
   "cell_type": "code",
   "execution_count": null,
   "metadata": {
    "collapsed": false
   },
   "outputs": [],
   "source": [
    "class Validater:\n",
    "\n",
    "    # load test data\n",
    "    test_file = './data/u1.test'\n",
    "    df_test = pd.read_csv(test_file, delimiter='\\t', header=None)\n",
    "    df_test.columns = ['user_id', 'item_id', 'rating', 'timestamp']\n",
    "    \n",
    "    def validate(self, P, Q, bU, bI):\n",
    "        # predicted rating matrix\n",
    "        df_test = self.df_test\n",
    "        R_p = P.T.dot(Q) +bU.reshape(-1,1) +bI.reshape(1,-1)\n",
    "\n",
    "        # get observations and predictions\n",
    "        obs = df_test['rating'].values\n",
    "        pred = R_p[df_test.values[:,0]-1, df_test.values[:,1]-1]\n",
    "\n",
    "        # compute evaluation metrics\n",
    "        results = {\n",
    "            \"MAE\":mean_absolute_error(obs, pred),\n",
    "            \"RMSE\":np.sqrt(mean_squared_error(obs, pred))\n",
    "        }   \n",
    "\n",
    "        return results"
   ]
  },
  {
   "cell_type": "code",
   "execution_count": null,
   "metadata": {
    "collapsed": false
   },
   "outputs": [],
   "source": [
    "def main(fold_id=1):\n",
    "    # load dataset\n",
    "    data_file = './data/u{}.base'.format(fold_id)\n",
    "    df_data = pd.read_csv(data_file, delimiter='\\t', header=None)\n",
    "    df_data.columns = ['user_id', 'item_id', 'rating', 'timestamp']\n",
    "    n_users = df_data.max()['user_id']\n",
    "    n_items = df_data.max()['item_id']\n",
    "\n",
    "    # change shape into user-item matrix\n",
    "    ratings = df_data.pivot(index='user_id', columns='item_id',\n",
    "                            values='rating').fillna(0)\n",
    "    # fill the lack of no-rated item_id\n",
    "    for item in range(n_items):\n",
    "        item += 1\n",
    "        if item not in ratings.columns:\n",
    "            ratings.loc[:, item] = 0\n",
    "            \n",
    "    # learning\n",
    "    R = ratings.values\n",
    "    P, Q, bU, bI = SVD_batch(R, lr=0.3, n_epochs=10000)\n",
    "    \n",
    "    # save matrices\n",
    "    np.savetxt('others/P.csv', P)\n",
    "    np.savetxt('others/Q.csv', Q)\n",
    "    np.savetxt('others/bU.csv', bU)\n",
    "    np.savetxt('others/bI.csv', bI)"
   ]
  },
  {
   "cell_type": "code",
   "execution_count": null,
   "metadata": {
    "collapsed": false
   },
   "outputs": [],
   "source": [
    "def mainpp(fold_id=1):\n",
    "    # load dataset\n",
    "    data_file = './data/u{}.base'.format(fold_id)\n",
    "    df_data = pd.read_csv(data_file, delimiter='\\t', header=None)\n",
    "    df_data.columns = ['user_id', 'item_id', 'rating', 'timestamp']\n",
    "    n_users = df_data.max()['user_id']\n",
    "    n_items = df_data.max()['item_id']\n",
    "\n",
    "    # change shape into user-item matrix\n",
    "    ratings = df_data.pivot(index='user_id', columns='item_id',\n",
    "                            values='rating').fillna(0)\n",
    "    # fill the lack of no-rated item_id\n",
    "    for item in range(n_items):\n",
    "        item += 1\n",
    "        if item not in ratings.columns:\n",
    "            ratings.loc[:, item] = 0\n",
    "            \n",
    "    # learning\n",
    "    R = ratings.values\n",
    "    X, Y = SVDpp(R)\n",
    "    \n",
    "    # save matrices\n",
    "    np.savetxt('others/X.csv', X)\n",
    "    np.savetxt('others/Y.csv', Y)"
   ]
  },
  {
   "cell_type": "code",
   "execution_count": null,
   "metadata": {
    "collapsed": false
   },
   "outputs": [],
   "source": [
    "def SVDpp(R, n_epochs=70, f=100, alpha=40, reg=50):\n",
    "    # m: the number of users\n",
    "    # n: the number of items\n",
    "    m, n = R.shape\n",
    "    # user factors\n",
    "    X = np.random.rand(m, f)\n",
    "    # item factors\n",
    "    Y = np.random.rand(n, f)\n",
    "    # preference\n",
    "    P = np.ones(R.shape)\n",
    "    P[R==0] = 0\n",
    "    # confidence\n",
    "    C = 1 + alpha*R\n",
    "    \n",
    "    for epoch in trange(n_epochs):\n",
    "        for u in trange(m):\n",
    "            Cu = np.diag(C[u])\n",
    "            X[u] = inv(Y.T.dot(Cu).dot(Y)+reg).dot(\n",
    "                         Y.T).dot(\n",
    "                         Cu).dot(\n",
    "                         P[u])\n",
    "\n",
    "        for i in trange(n):\n",
    "            Ci = np.diag(C[:,i])\n",
    "            Y[i] = inv(X.T.dot(Ci).dot(X)+reg).dot(\n",
    "                         X.T).dot(\n",
    "                         Ci).dot(\n",
    "                         P[:,i])\n",
    "        R = X.dot(Y.T)\n",
    "        tqdm.write(str(pd.Series(R.ravel()).describe()))\n",
    "        \n",
    "    return X, Y"
   ]
  },
  {
   "cell_type": "code",
   "execution_count": null,
   "metadata": {
    "collapsed": false
   },
   "outputs": [],
   "source": [
    "if __name__=='__main__':\n",
    "    main()"
   ]
  },
  {
   "cell_type": "code",
   "execution_count": null,
   "metadata": {
    "collapsed": false
   },
   "outputs": [],
   "source": [
    "if __name__=='__main__':\n",
    "    test_file = './data/u1.test'\n",
    "    df_test = pd.read_csv(test_file, delimiter='\\t', header=None)\n",
    "    df_test.columns = ['user_id', 'item_id', 'rating', 'timestamp']\n",
    "\n",
    "    X = np.loadtxt('others/X.csv')\n",
    "    Y = np.loadtxt('others/Y.csv')\n",
    "    alpha = 40\n",
    "    R_p = (X.dot(Y.T) - 1) / alpha\n",
    "    print(pd.Series(R_p.ravel()).describe())"
   ]
  },
  {
   "cell_type": "code",
   "execution_count": null,
   "metadata": {
    "collapsed": true
   },
   "outputs": [],
   "source": []
  }
 ],
 "metadata": {
  "kernelspec": {
   "display_name": "Python 3",
   "language": "python",
   "name": "python3"
  },
  "language_info": {
   "codemirror_mode": {
    "name": "ipython",
    "version": 3
   },
   "file_extension": ".py",
   "mimetype": "text/x-python",
   "name": "python",
   "nbconvert_exporter": "python",
   "pygments_lexer": "ipython3",
   "version": "3.6.0"
  }
 },
 "nbformat": 4,
 "nbformat_minor": 2
}
