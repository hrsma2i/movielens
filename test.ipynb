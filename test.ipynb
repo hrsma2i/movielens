{
 "cells": [
  {
   "cell_type": "code",
   "execution_count": null,
   "metadata": {},
   "outputs": [],
   "source": [
    "\"\"\"\n",
    "test recommend_topk and show learning curves\n",
    "\"\"\"\n",
    "import pandas as pd\n",
    "import matplotlib.pyplot as plt\n",
    "%matplotlib inline\n",
    "from IPython.display import display\n",
    "\n",
    "from recommendation import *"
   ]
  },
  {
   "cell_type": "code",
   "execution_count": null,
   "metadata": {},
   "outputs": [],
   "source": [
    "model = SVD_SGD()\n",
    "model.load_params('results/sgd/parameters.pkl')"
   ]
  },
  {
   "cell_type": "code",
   "execution_count": null,
   "metadata": {},
   "outputs": [],
   "source": [
    "# check top-k rated items\n",
    "user = 0\n",
    "k = 10\n",
    "recommend_topk(R=model.R, u=user, k=k)"
   ]
  },
  {
   "cell_type": "code",
   "execution_count": null,
   "metadata": {},
   "outputs": [],
   "source": [
    "# recommend top-k unrated items\n",
    "mask_unrated = (model.R[user]==0)\n",
    "rec = recommend_topk(R=model.get_R_p(), u=user, k=k, mask=mask_unrated)\n",
    "display(rec)\n",
    "\n",
    "# show learning curve\n",
    "log_json = 'results/sgd/log'\n",
    "df_log = pd.read_json(log_json)\n",
    "for name, col in df_log.iteritems():\n",
    "    plt.plot(col, label=name)\n",
    "plt.legend()"
   ]
  },
  {
   "cell_type": "code",
   "execution_count": null,
   "metadata": {},
   "outputs": [],
   "source": [
    "# set up model\n",
    "model = SVD_SGD(biased=True)\n",
    "model_name = 'sgd_b'\n",
    "\n",
    "# recommend top-k unrated items\n",
    "model.load_params('results/{}/parameters.pkl'.format(model_name))\n",
    "mask_unrated = (model.R[user]==0)\n",
    "rec = recommend_topk(R=model.get_R_p(), u=user, k=k, mask=mask_unrated)\n",
    "display(rec)\n",
    "\n",
    "# show learning curve\n",
    "log_json = 'results/{}/log'.format(model_name)\n",
    "df_log = pd.read_json(log_json)\n",
    "for name, col in df_log.iteritems():\n",
    "    plt.plot(col, label=name)\n",
    "plt.legend()"
   ]
  },
  {
   "cell_type": "code",
   "execution_count": null,
   "metadata": {},
   "outputs": [],
   "source": [
    "# set up model\n",
    "model = SVD_ALS()\n",
    "model_name = 'als'\n",
    "\n",
    "# recommend top-k unrated items\n",
    "model.load_params('results/{}/parameters.pkl'.format(model_name))\n",
    "mask_unrated = (model.R[user]==0)\n",
    "rec = recommend_topk(R=model.get_R_p(), u=user, k=k, mask=mask_unrated)\n",
    "display(rec)\n",
    "\n",
    "# show learning curve\n",
    "log_json = 'results/{}/log'.format(model_name)\n",
    "df_log = pd.read_json(log_json)\n",
    "for name, col in df_log.iteritems():\n",
    "    plt.plot(col, label=name)\n",
    "plt.legend()"
   ]
  },
  {
   "cell_type": "code",
   "execution_count": null,
   "metadata": {},
   "outputs": [],
   "source": [
    "# set up model\n",
    "model = SVD_ALS(biased=True)\n",
    "model_name = 'als_b'\n",
    "\n",
    "# recommend top-k unrated items\n",
    "model.load_params('results/{}/parameters.pkl'.format(model_name))\n",
    "mask_unrated = (model.R[user]==0)\n",
    "rec = recommend_topk(R=model.get_R_p(), u=user, k=k, mask=mask_unrated)\n",
    "display(rec)\n",
    "\n",
    "# show learning curve\n",
    "log_json = 'results/{}/log'.format(model_name)\n",
    "df_log = pd.read_json(log_json)\n",
    "for name, col in df_log.iteritems():\n",
    "    plt.plot(col, label=name)\n",
    "plt.legend()"
   ]
  },
  {
   "cell_type": "code",
   "execution_count": null,
   "metadata": {},
   "outputs": [],
   "source": []
  }
 ],
 "metadata": {
  "kernelspec": {
   "display_name": "Python 3",
   "language": "python",
   "name": "python3"
  },
  "language_info": {
   "codemirror_mode": {
    "name": "ipython",
    "version": 3
   },
   "file_extension": ".py",
   "mimetype": "text/x-python",
   "name": "python",
   "nbconvert_exporter": "python",
   "pygments_lexer": "ipython3",
   "version": "3.6.0"
  }
 },
 "nbformat": 4,
 "nbformat_minor": 2
}
